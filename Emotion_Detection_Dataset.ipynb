{
 "cells": [
  {
   "cell_type": "code",
   "execution_count": 23,
   "metadata": {},
   "outputs": [],
   "source": [
    "import tensorflow as tf\n",
    "import matplotlib.pyplot as plt\n",
    "import os\n",
    "import shutil\n",
    "import librosa\n",
    "import numpy as np\n",
    "import cv2 as cv\n",
    "\n",
    "def mfccs(path):\n",
    "    temp_list = []\n",
    "    x,sr = librosa.load(path)\n",
    "    mfcc = librosa.feature.mfcc(y=x, n_mfcc=50)\n",
    "    return(mfcc)\n",
    "\n",
    "datapath = 'D:/Emotion Detector/Train'\n"
   ]
  },
  {
   "cell_type": "code",
   "execution_count": 25,
   "metadata": {},
   "outputs": [],
   "source": [
    "for ( dirpath, dirname, filenames ) in os.walk('D:/Emotion Detector/Dataset'):\n",
    "    for filename in filenames :\n",
    "        f_path = os.path.join(dirpath,filename)\n",
    "        if(\"ANG\" in filename):\n",
    "            cv.imwrite(os.path.join(datapath,'angry',os.path.splitext(filename)[0]+'.jpg'),mfccs(f_path))\n",
    "        elif(\"HAP\" in filename):\n",
    "            cv.imwrite(os.path.join(datapath,'happy',os.path.splitext(filename)[0]+'.jpg'),mfccs(f_path))\n",
    "        elif(\"SAD\" in filename):\n",
    "            cv.imwrite(os.path.join(datapath,'sad',os.path.splitext(filename)[0]+'.jpg'),mfccs(f_path))\n",
    "        elif(\"NEU\" in filename):\n",
    "            cv.imwrite(os.path.join(datapath,'neutral',os.path.splitext(filename)[0]+'.jpg'),mfccs(f_path))\n",
    "        elif(\"FEA\" in filename):\n",
    "            cv.imwrite(os.path.join(datapath,'fear',os.path.splitext(filename)[0]+'.jpg'),mfccs(f_path))\n",
    "        elif(\"DIS\" in filename):\n",
    "            cv.imwrite(os.path.join(datapath,'dis',os.path.splitext(filename)[0]+'.jpg'),mfccs(f_path))\n",
    "\n"
   ]
  },
  {
   "cell_type": "code",
   "execution_count": null,
   "metadata": {},
   "outputs": [],
   "source": []
  }
 ],
 "metadata": {
  "kernelspec": {
   "display_name": "Python 3",
   "language": "python",
   "name": "python3"
  },
  "language_info": {
   "codemirror_mode": {
    "name": "ipython",
    "version": 3
   },
   "file_extension": ".py",
   "mimetype": "text/x-python",
   "name": "python",
   "nbconvert_exporter": "python",
   "pygments_lexer": "ipython3",
   "version": "3.7.9"
  }
 },
 "nbformat": 4,
 "nbformat_minor": 4
}

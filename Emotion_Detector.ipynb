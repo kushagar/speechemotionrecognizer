{
 "cells": [
  {
   "cell_type": "markdown",
   "metadata": {
    "colab_type": "text",
    "id": "3DR-eO17geWu"
   },
   "source": [
    "# Convolutional Neural Network"
   ]
  },
  {
   "cell_type": "markdown",
   "metadata": {
    "colab_type": "text",
    "id": "EMefrVPCg-60"
   },
   "source": [
    "### Importing the libraries"
   ]
  },
  {
   "cell_type": "code",
   "execution_count": 76,
   "metadata": {
    "colab": {},
    "colab_type": "code",
    "id": "sCV30xyVhFbE"
   },
   "outputs": [],
   "source": [
    "import tensorflow as tf\n",
    "from keras.preprocessing.image import ImageDataGenerator"
   ]
  },
  {
   "cell_type": "markdown",
   "metadata": {
    "colab_type": "text",
    "id": "oxQxCBWyoGPE"
   },
   "source": [
    "## Part 1 - Data Preprocessing"
   ]
  },
  {
   "cell_type": "markdown",
   "metadata": {
    "colab_type": "text",
    "id": "MvE-heJNo3GG"
   },
   "source": [
    "### Preprocessing the Training set"
   ]
  },
  {
   "cell_type": "code",
   "execution_count": 77,
   "metadata": {
    "colab": {},
    "colab_type": "code",
    "id": "0koUcJMJpEBD"
   },
   "outputs": [
    {
     "name": "stdout",
     "output_type": "stream",
     "text": [
      "Found 7442 images belonging to 6 classes.\n"
     ]
    }
   ],
   "source": [
    "dataset_train = ImageDataGenerator(rescale = 1./255,\n",
    "                                   shear_range = 0.2,\n",
    "                                   zoom_range = 0.2,\n",
    "                                   horizontal_flip = True)\n",
    "training_set = dataset_train.flow_from_directory('D:/Emotion Detector/data/Train',\n",
    "                                                 color_mode=\"grayscale\",\n",
    "                                                 target_size = (50,50),\n",
    "                                                 batch_size = 32 ,\n",
    "                                                 class_mode = 'categorical')"
   ]
  },
  {
   "cell_type": "markdown",
   "metadata": {
    "colab_type": "text",
    "id": "mrCMmGw9pHys"
   },
   "source": [
    "### Preprocessing the Test set"
   ]
  },
  {
   "cell_type": "code",
   "execution_count": 78,
   "metadata": {
    "colab": {},
    "colab_type": "code",
    "id": "SH4WzfOhpKc3"
   },
   "outputs": [
    {
     "name": "stdout",
     "output_type": "stream",
     "text": [
      "Found 4529 images belonging to 6 classes.\n"
     ]
    }
   ],
   "source": [
    "dataset_test = ImageDataGenerator(rescale = 1./255)\n",
    "test_set = dataset_test.flow_from_directory('D:/Emotion Detector/data/Test',\n",
    "                                                color_mode=\"grayscale\",\n",
    "                                                 target_size = (50,50),\n",
    "                                                 batch_size = 32,\n",
    "                                                 class_mode = 'categorical')"
   ]
  },
  {
   "cell_type": "markdown",
   "metadata": {
    "colab_type": "text",
    "id": "af8O4l90gk7B"
   },
   "source": [
    "## Part 2 - Building the CNN"
   ]
  },
  {
   "cell_type": "code",
   "execution_count": 79,
   "metadata": {},
   "outputs": [
    {
     "name": "stdout",
     "output_type": "stream",
     "text": [
      "[[[0.        ]\n",
      "  [0.        ]\n",
      "  [0.        ]\n",
      "  ...\n",
      "  [0.        ]\n",
      "  [0.        ]\n",
      "  [0.00162191]]\n",
      "\n",
      " [[0.        ]\n",
      "  [0.        ]\n",
      "  [0.        ]\n",
      "  ...\n",
      "  [0.        ]\n",
      "  [0.        ]\n",
      "  [0.00162191]]\n",
      "\n",
      " [[0.        ]\n",
      "  [0.        ]\n",
      "  [0.        ]\n",
      "  ...\n",
      "  [0.        ]\n",
      "  [0.        ]\n",
      "  [0.00162191]]\n",
      "\n",
      " ...\n",
      "\n",
      " [[0.        ]\n",
      "  [0.        ]\n",
      "  [0.        ]\n",
      "  ...\n",
      "  [0.        ]\n",
      "  [0.        ]\n",
      "  [0.        ]]\n",
      "\n",
      " [[0.        ]\n",
      "  [0.        ]\n",
      "  [0.        ]\n",
      "  ...\n",
      "  [0.        ]\n",
      "  [0.        ]\n",
      "  [0.        ]]\n",
      "\n",
      " [[0.        ]\n",
      "  [0.        ]\n",
      "  [0.        ]\n",
      "  ...\n",
      "  [0.        ]\n",
      "  [0.        ]\n",
      "  [0.        ]]]\n"
     ]
    }
   ],
   "source": [
    "print(training_set[0][0][0])"
   ]
  },
  {
   "cell_type": "markdown",
   "metadata": {
    "colab_type": "text",
    "id": "ces1gXY2lmoX"
   },
   "source": [
    "### Initialising the CNN"
   ]
  },
  {
   "cell_type": "code",
   "execution_count": 80,
   "metadata": {
    "colab": {},
    "colab_type": "code",
    "id": "SAUt4UMPlhLS"
   },
   "outputs": [],
   "source": [
    "cnn = tf.keras.models.Sequential()"
   ]
  },
  {
   "cell_type": "markdown",
   "metadata": {
    "colab_type": "text",
    "id": "u5YJj_XMl5LF"
   },
   "source": [
    "### Step 1 - Convolution"
   ]
  },
  {
   "cell_type": "code",
   "execution_count": 81,
   "metadata": {
    "colab": {},
    "colab_type": "code",
    "id": "XPzPrMckl-hV"
   },
   "outputs": [],
   "source": [
    "cnn.add(tf.keras.layers.Conv2D(filters=32,kernel_size=3,activation='relu',input_shape=[50,50,1]))"
   ]
  },
  {
   "cell_type": "markdown",
   "metadata": {
    "colab_type": "text",
    "id": "tf87FpvxmNOJ"
   },
   "source": [
    "### Step 2 - Pooling"
   ]
  },
  {
   "cell_type": "code",
   "execution_count": 82,
   "metadata": {
    "colab": {},
    "colab_type": "code",
    "id": "ncpqPl69mOac"
   },
   "outputs": [],
   "source": [
    "cnn.add(tf.keras.layers.MaxPool2D(pool_size=2,strides=2))"
   ]
  },
  {
   "cell_type": "markdown",
   "metadata": {
    "colab_type": "text",
    "id": "xaTOgD8rm4mU"
   },
   "source": [
    "### Adding a second convolutional layer"
   ]
  },
  {
   "cell_type": "code",
   "execution_count": 83,
   "metadata": {
    "colab": {},
    "colab_type": "code",
    "id": "i_-FZjn_m8gk"
   },
   "outputs": [],
   "source": [
    "cnn.add(tf.keras.layers.Conv2D(filters=32,kernel_size=3,activation='relu'))\n",
    "cnn.add(tf.keras.layers.MaxPool2D(pool_size=2,strides=2))"
   ]
  },
  {
   "cell_type": "markdown",
   "metadata": {
    "colab_type": "text",
    "id": "tmiEuvTunKfk"
   },
   "source": [
    "### Step 3 - Flattening"
   ]
  },
  {
   "cell_type": "code",
   "execution_count": 84,
   "metadata": {
    "colab": {},
    "colab_type": "code",
    "id": "6AZeOGCvnNZn"
   },
   "outputs": [],
   "source": [
    "cnn.add(tf.keras.layers.Flatten())"
   ]
  },
  {
   "cell_type": "markdown",
   "metadata": {
    "colab_type": "text",
    "id": "dAoSECOm203v"
   },
   "source": [
    "### Step 4 - Full Connection"
   ]
  },
  {
   "cell_type": "code",
   "execution_count": 85,
   "metadata": {
    "colab": {},
    "colab_type": "code",
    "id": "8GtmUlLd26Nq"
   },
   "outputs": [],
   "source": [
    "cnn.add(tf.keras.layers.Dense(units=512,activation='relu'))"
   ]
  },
  {
   "cell_type": "markdown",
   "metadata": {
    "colab_type": "text",
    "id": "yTldFvbX28Na"
   },
   "source": [
    "### Step 5 - Output Layer"
   ]
  },
  {
   "cell_type": "code",
   "execution_count": 86,
   "metadata": {
    "colab": {},
    "colab_type": "code",
    "id": "1p_Zj1Mc3Ko_"
   },
   "outputs": [],
   "source": [
    "cnn.add(tf.keras.layers.Dense(units=6,activation='softmax'))"
   ]
  },
  {
   "cell_type": "markdown",
   "metadata": {
    "colab_type": "text",
    "id": "D6XkI90snSDl"
   },
   "source": [
    "## Part 3 - Training the CNN"
   ]
  },
  {
   "cell_type": "markdown",
   "metadata": {
    "colab_type": "text",
    "id": "vfrFQACEnc6i"
   },
   "source": [
    "### Compiling the CNN"
   ]
  },
  {
   "cell_type": "code",
   "execution_count": 87,
   "metadata": {
    "colab": {},
    "colab_type": "code",
    "id": "NALksrNQpUlJ"
   },
   "outputs": [],
   "source": [
    "cnn.compile(optimizer = 'adam',loss = 'categorical_crossentropy', metrics = ['accuracy'])"
   ]
  },
  {
   "cell_type": "code",
   "execution_count": 88,
   "metadata": {},
   "outputs": [
    {
     "name": "stdout",
     "output_type": "stream",
     "text": [
      "Model: \"sequential_5\"\n",
      "_________________________________________________________________\n",
      "Layer (type)                 Output Shape              Param #   \n",
      "=================================================================\n",
      "conv2d_10 (Conv2D)           (None, 48, 48, 32)        320       \n",
      "_________________________________________________________________\n",
      "max_pooling2d_10 (MaxPooling (None, 24, 24, 32)        0         \n",
      "_________________________________________________________________\n",
      "conv2d_11 (Conv2D)           (None, 22, 22, 32)        9248      \n",
      "_________________________________________________________________\n",
      "max_pooling2d_11 (MaxPooling (None, 11, 11, 32)        0         \n",
      "_________________________________________________________________\n",
      "flatten_5 (Flatten)          (None, 3872)              0         \n",
      "_________________________________________________________________\n",
      "dense_10 (Dense)             (None, 512)               1982976   \n",
      "_________________________________________________________________\n",
      "dense_11 (Dense)             (None, 6)                 3078      \n",
      "=================================================================\n",
      "Total params: 1,995,622\n",
      "Trainable params: 1,995,622\n",
      "Non-trainable params: 0\n",
      "_________________________________________________________________\n"
     ]
    }
   ],
   "source": [
    "cnn.summary()"
   ]
  },
  {
   "cell_type": "markdown",
   "metadata": {
    "colab_type": "text",
    "id": "ehS-v3MIpX2h"
   },
   "source": [
    "### Training the CNN on the Training set and evaluating it on the Test set"
   ]
  },
  {
   "cell_type": "code",
   "execution_count": 89,
   "metadata": {
    "colab": {},
    "colab_type": "code",
    "id": "XUj1W4PJptta",
    "scrolled": false
   },
   "outputs": [
    {
     "name": "stdout",
     "output_type": "stream",
     "text": [
      "Epoch 1/70\n",
      "233/233 [==============================] - 14s 61ms/step - loss: 1.6768 - accuracy: 0.2648 - val_loss: 1.5557 - val_accuracy: 0.3595\n",
      "Epoch 2/70\n",
      "233/233 [==============================] - 14s 61ms/step - loss: 1.5588 - accuracy: 0.3452 - val_loss: 1.5162 - val_accuracy: 0.3935\n",
      "Epoch 3/70\n",
      "233/233 [==============================] - 14s 61ms/step - loss: 1.5072 - accuracy: 0.3733 - val_loss: 1.5464 - val_accuracy: 0.3937\n",
      "Epoch 4/70\n",
      "233/233 [==============================] - 14s 61ms/step - loss: 1.4487 - accuracy: 0.4028 - val_loss: 1.4234 - val_accuracy: 0.4052\n",
      "Epoch 5/70\n",
      "233/233 [==============================] - 14s 61ms/step - loss: 1.4256 - accuracy: 0.4211 - val_loss: 1.4209 - val_accuracy: 0.4200\n",
      "Epoch 6/70\n",
      "233/233 [==============================] - 14s 62ms/step - loss: 1.3893 - accuracy: 0.4351 - val_loss: 1.4065 - val_accuracy: 0.4509\n",
      "Epoch 7/70\n",
      "233/233 [==============================] - 14s 61ms/step - loss: 1.3690 - accuracy: 0.4429 - val_loss: 1.3446 - val_accuracy: 0.4747\n",
      "Epoch 8/70\n",
      "233/233 [==============================] - 14s 62ms/step - loss: 1.3512 - accuracy: 0.4592 - val_loss: 1.4113 - val_accuracy: 0.4348\n",
      "Epoch 9/70\n",
      "233/233 [==============================] - 15s 65ms/step - loss: 1.3453 - accuracy: 0.4558 - val_loss: 1.4476 - val_accuracy: 0.4001\n",
      "Epoch 10/70\n",
      "233/233 [==============================] - 14s 62ms/step - loss: 1.3087 - accuracy: 0.4794 - val_loss: 1.2109 - val_accuracy: 0.5184\n",
      "Epoch 11/70\n",
      "233/233 [==============================] - 14s 62ms/step - loss: 1.2838 - accuracy: 0.4862 - val_loss: 1.3357 - val_accuracy: 0.4696\n",
      "Epoch 12/70\n",
      "233/233 [==============================] - 14s 62ms/step - loss: 1.2903 - accuracy: 0.4897 - val_loss: 1.2740 - val_accuracy: 0.4911\n",
      "Epoch 13/70\n",
      "233/233 [==============================] - 14s 62ms/step - loss: 1.2644 - accuracy: 0.4970 - val_loss: 1.1945 - val_accuracy: 0.5286\n",
      "Epoch 14/70\n",
      "233/233 [==============================] - 15s 63ms/step - loss: 1.2428 - accuracy: 0.5069 - val_loss: 1.1583 - val_accuracy: 0.5440\n",
      "Epoch 15/70\n",
      "233/233 [==============================] - 15s 63ms/step - loss: 1.2289 - accuracy: 0.5095 - val_loss: 1.2201 - val_accuracy: 0.5083\n",
      "Epoch 16/70\n",
      "233/233 [==============================] - 15s 62ms/step - loss: 1.2194 - accuracy: 0.5120 - val_loss: 1.0873 - val_accuracy: 0.5783\n",
      "Epoch 17/70\n",
      "233/233 [==============================] - 16s 67ms/step - loss: 1.2049 - accuracy: 0.5228 - val_loss: 1.0920 - val_accuracy: 0.5690\n",
      "Epoch 18/70\n",
      "233/233 [==============================] - 15s 66ms/step - loss: 1.1809 - accuracy: 0.5308 - val_loss: 1.1048 - val_accuracy: 0.5648\n",
      "Epoch 19/70\n",
      "233/233 [==============================] - 15s 63ms/step - loss: 1.1576 - accuracy: 0.5419 - val_loss: 1.0846 - val_accuracy: 0.5697\n",
      "Epoch 20/70\n",
      "233/233 [==============================] - 15s 63ms/step - loss: 1.1462 - accuracy: 0.5447 - val_loss: 1.0285 - val_accuracy: 0.5997\n",
      "Epoch 21/70\n",
      "233/233 [==============================] - 15s 62ms/step - loss: 1.1425 - accuracy: 0.5466 - val_loss: 1.0557 - val_accuracy: 0.5789\n",
      "Epoch 22/70\n",
      "233/233 [==============================] - 15s 62ms/step - loss: 1.1178 - accuracy: 0.5636 - val_loss: 1.0672 - val_accuracy: 0.5741\n",
      "Epoch 23/70\n",
      "233/233 [==============================] - 15s 63ms/step - loss: 1.1013 - accuracy: 0.5688 - val_loss: 0.9579 - val_accuracy: 0.6330\n",
      "Epoch 24/70\n",
      "233/233 [==============================] - 15s 63ms/step - loss: 1.0809 - accuracy: 0.5822 - val_loss: 0.9693 - val_accuracy: 0.6191\n",
      "Epoch 25/70\n",
      "233/233 [==============================] - 15s 62ms/step - loss: 1.0609 - accuracy: 0.5920 - val_loss: 0.9403 - val_accuracy: 0.6441\n",
      "Epoch 26/70\n",
      "233/233 [==============================] - 15s 62ms/step - loss: 1.0510 - accuracy: 0.5950 - val_loss: 0.9080 - val_accuracy: 0.6533\n",
      "Epoch 27/70\n",
      "233/233 [==============================] - 15s 62ms/step - loss: 1.0331 - accuracy: 0.5985 - val_loss: 0.9445 - val_accuracy: 0.6357\n",
      "Epoch 28/70\n",
      "233/233 [==============================] - 15s 62ms/step - loss: 1.0278 - accuracy: 0.5992 - val_loss: 0.8945 - val_accuracy: 0.6578\n",
      "Epoch 29/70\n",
      "233/233 [==============================] - 15s 63ms/step - loss: 0.9996 - accuracy: 0.6148 - val_loss: 0.8779 - val_accuracy: 0.6666\n",
      "Epoch 30/70\n",
      "233/233 [==============================] - 15s 62ms/step - loss: 0.9742 - accuracy: 0.6275 - val_loss: 0.8762 - val_accuracy: 0.6681\n",
      "Epoch 31/70\n",
      "233/233 [==============================] - 15s 64ms/step - loss: 0.9671 - accuracy: 0.6344 - val_loss: 0.9044 - val_accuracy: 0.6516\n",
      "Epoch 32/70\n",
      "233/233 [==============================] - 15s 64ms/step - loss: 0.9552 - accuracy: 0.6303 - val_loss: 0.8399 - val_accuracy: 0.6814\n",
      "Epoch 33/70\n",
      "233/233 [==============================] - 15s 63ms/step - loss: 0.9429 - accuracy: 0.6422 - val_loss: 0.8213 - val_accuracy: 0.6911\n",
      "Epoch 34/70\n",
      "233/233 [==============================] - 15s 63ms/step - loss: 0.9130 - accuracy: 0.6549 - val_loss: 0.8125 - val_accuracy: 0.6865\n",
      "Epoch 35/70\n",
      "233/233 [==============================] - 15s 63ms/step - loss: 0.9069 - accuracy: 0.6518 - val_loss: 0.7255 - val_accuracy: 0.7311\n",
      "Epoch 36/70\n",
      "233/233 [==============================] - 15s 63ms/step - loss: 0.8761 - accuracy: 0.6666 - val_loss: 0.7100 - val_accuracy: 0.7353\n",
      "Epoch 37/70\n",
      "233/233 [==============================] - 15s 63ms/step - loss: 0.8703 - accuracy: 0.6720 - val_loss: 0.7612 - val_accuracy: 0.7094\n",
      "Epoch 38/70\n",
      "233/233 [==============================] - 15s 63ms/step - loss: 0.8422 - accuracy: 0.6766 - val_loss: 0.7954 - val_accuracy: 0.6957\n",
      "Epoch 39/70\n",
      "233/233 [==============================] - 15s 63ms/step - loss: 0.8286 - accuracy: 0.6872 - val_loss: 0.7094 - val_accuracy: 0.7322\n",
      "Epoch 40/70\n",
      "233/233 [==============================] - 15s 63ms/step - loss: 0.7923 - accuracy: 0.7006 - val_loss: 0.6166 - val_accuracy: 0.7706\n",
      "Epoch 41/70\n",
      "233/233 [==============================] - 15s 63ms/step - loss: 0.7957 - accuracy: 0.6962 - val_loss: 0.6009 - val_accuracy: 0.7788\n",
      "Epoch 42/70\n",
      "233/233 [==============================] - 15s 63ms/step - loss: 0.7730 - accuracy: 0.7076 - val_loss: 0.6088 - val_accuracy: 0.7726\n",
      "Epoch 43/70\n",
      "233/233 [==============================] - 15s 63ms/step - loss: 0.7529 - accuracy: 0.7184 - val_loss: 0.6053 - val_accuracy: 0.7730\n",
      "Epoch 44/70\n",
      "233/233 [==============================] - 15s 63ms/step - loss: 0.7369 - accuracy: 0.7221 - val_loss: 0.6030 - val_accuracy: 0.7735\n",
      "Epoch 45/70\n",
      "233/233 [==============================] - 15s 63ms/step - loss: 0.7367 - accuracy: 0.7210 - val_loss: 0.6327 - val_accuracy: 0.7609\n",
      "Epoch 46/70\n",
      "233/233 [==============================] - 15s 63ms/step - loss: 0.7096 - accuracy: 0.7361 - val_loss: 0.5393 - val_accuracy: 0.7951\n",
      "Epoch 47/70\n",
      "233/233 [==============================] - 15s 63ms/step - loss: 0.6991 - accuracy: 0.7385 - val_loss: 0.5583 - val_accuracy: 0.7898\n",
      "Epoch 48/70\n",
      "233/233 [==============================] - 15s 63ms/step - loss: 0.6827 - accuracy: 0.7487 - val_loss: 0.6212 - val_accuracy: 0.7582\n",
      "Epoch 49/70\n",
      "233/233 [==============================] - 15s 65ms/step - loss: 0.6822 - accuracy: 0.7466 - val_loss: 0.6024 - val_accuracy: 0.7735\n",
      "Epoch 50/70\n",
      "233/233 [==============================] - 15s 63ms/step - loss: 0.6567 - accuracy: 0.7517 - val_loss: 0.4664 - val_accuracy: 0.8351\n",
      "Epoch 51/70\n",
      "233/233 [==============================] - 15s 65ms/step - loss: 0.6527 - accuracy: 0.7580 - val_loss: 0.5376 - val_accuracy: 0.7969\n",
      "Epoch 52/70\n",
      "233/233 [==============================] - 15s 63ms/step - loss: 0.6263 - accuracy: 0.7670 - val_loss: 0.4924 - val_accuracy: 0.8139\n",
      "Epoch 53/70\n",
      "233/233 [==============================] - 15s 63ms/step - loss: 0.6230 - accuracy: 0.7675 - val_loss: 0.4663 - val_accuracy: 0.8329\n",
      "Epoch 54/70\n",
      "233/233 [==============================] - 15s 63ms/step - loss: 0.6005 - accuracy: 0.7792 - val_loss: 0.4492 - val_accuracy: 0.8300\n",
      "Epoch 55/70\n",
      "233/233 [==============================] - 15s 63ms/step - loss: 0.5826 - accuracy: 0.7811 - val_loss: 0.4518 - val_accuracy: 0.8342\n",
      "Epoch 56/70\n",
      "233/233 [==============================] - 15s 64ms/step - loss: 0.5856 - accuracy: 0.7764 - val_loss: 0.3771 - val_accuracy: 0.8653\n",
      "Epoch 57/70\n",
      "233/233 [==============================] - 14s 62ms/step - loss: 0.5589 - accuracy: 0.7940 - val_loss: 0.3786 - val_accuracy: 0.8622\n",
      "Epoch 58/70\n",
      "233/233 [==============================] - 14s 62ms/step - loss: 0.5532 - accuracy: 0.7988 - val_loss: 0.4224 - val_accuracy: 0.8472\n",
      "Epoch 59/70\n",
      "233/233 [==============================] - 14s 62ms/step - loss: 0.5389 - accuracy: 0.8013 - val_loss: 0.4306 - val_accuracy: 0.8390\n",
      "Epoch 60/70\n",
      "233/233 [==============================] - 14s 62ms/step - loss: 0.5299 - accuracy: 0.8056 - val_loss: 0.3615 - val_accuracy: 0.8644\n",
      "Epoch 61/70\n",
      "233/233 [==============================] - 14s 62ms/step - loss: 0.5179 - accuracy: 0.8074 - val_loss: 0.4165 - val_accuracy: 0.8503\n",
      "Epoch 62/70\n",
      "233/233 [==============================] - 14s 62ms/step - loss: 0.5113 - accuracy: 0.8139 - val_loss: 0.3583 - val_accuracy: 0.8688\n",
      "Epoch 63/70\n",
      "233/233 [==============================] - 14s 62ms/step - loss: 0.5031 - accuracy: 0.8164 - val_loss: 0.3554 - val_accuracy: 0.8677\n",
      "Epoch 64/70\n",
      "233/233 [==============================] - 14s 62ms/step - loss: 0.4952 - accuracy: 0.8173 - val_loss: 0.3199 - val_accuracy: 0.8847\n",
      "Epoch 65/70\n",
      "233/233 [==============================] - 15s 62ms/step - loss: 0.4785 - accuracy: 0.8277 - val_loss: 0.3611 - val_accuracy: 0.8655\n",
      "Epoch 66/70\n",
      "233/233 [==============================] - 14s 62ms/step - loss: 0.4457 - accuracy: 0.8393 - val_loss: 0.2929 - val_accuracy: 0.8953\n",
      "Epoch 67/70\n",
      "233/233 [==============================] - 14s 62ms/step - loss: 0.4599 - accuracy: 0.8260 - val_loss: 0.2800 - val_accuracy: 0.9015\n",
      "Epoch 68/70\n",
      "233/233 [==============================] - 14s 62ms/step - loss: 0.4426 - accuracy: 0.8405 - val_loss: 0.3343 - val_accuracy: 0.8775\n",
      "Epoch 69/70\n",
      "233/233 [==============================] - 15s 64ms/step - loss: 0.4455 - accuracy: 0.8386 - val_loss: 0.3502 - val_accuracy: 0.8697\n",
      "Epoch 70/70\n",
      "233/233 [==============================] - 16s 67ms/step - loss: 0.4294 - accuracy: 0.8452 - val_loss: 0.2500 - val_accuracy: 0.9137\n"
     ]
    }
   ],
   "source": [
    "history = cnn.fit(x = training_set, validation_data = test_set, epochs=70)"
   ]
  },
  {
   "cell_type": "markdown",
   "metadata": {},
   "source": [
    "# PLOTS"
   ]
  },
  {
   "cell_type": "code",
   "execution_count": 93,
   "metadata": {},
   "outputs": [
    {
     "name": "stdout",
     "output_type": "stream",
     "text": [
      "dict_keys(['loss', 'accuracy', 'val_loss', 'val_accuracy'])\n"
     ]
    },
    {
     "data": {
      "image/png": "[encoded data removed]",
      "text/plain": [
       "<Figure size 432x288 with 1 Axes>"
      ]
     },
     "metadata": {
      "needs_background": "light"
     },
     "output_type": "display_data"
    },
    {
     "data": {
      "image/png": "[encoded data removed]",
      "text/plain": [
       "<Figure size 432x288 with 1 Axes>"
      ]
     },
     "metadata": {
      "needs_background": "light"
     },
     "output_type": "display_data"
    }
   ],
   "source": [
    "import matplotlib.pyplot as plt\n",
    "print(history.history.keys())\n",
    "# summarize history for accuracy\n",
    "plt.plot(history.history['accuracy'])\n",
    "plt.plot(history.history['val_accuracy'])\n",
    "plt.title('model accuracy')\n",
    "plt.ylabel('accuracy')\n",
    "plt.xlabel('epoch')\n",
    "plt.legend(['train', 'test'], loc='upper left')\n",
    "plt.savefig('D:/Emotion Detector/Accuracy_Graph.png')\n",
    "plt.show()\n",
    "# summarize history for loss\n",
    "plt.plot(history.history['loss'])\n",
    "plt.plot(history.history['val_loss'])\n",
    "plt.title('model loss')\n",
    "plt.ylabel('loss')\n",
    "plt.xlabel('epoch')\n",
    "plt.legend(['train', 'test'], loc='upper left')\n",
    "plt.savefig('D:/Emotion Detector/Loss_Graph.png')\n",
    "plt.show()"
   ]
  },
  {
   "cell_type": "code",
   "execution_count": null,
   "metadata": {},
   "outputs": [],
   "source": []
  }
 ],
 "metadata": {
  "colab": {
   "collapsed_sections": [],
   "name": "convolutional_neural_network.ipynb",
   "provenance": [],
   "toc_visible": true
  },
  "kernelspec": {
   "display_name": "Python 3",
   "language": "python",
   "name": "python3"
  },
  "language_info": {
   "codemirror_mode": {
    "name": "ipython",
    "version": 3
   },
   "file_extension": ".py",
   "mimetype": "text/x-python",
   "name": "python",
   "nbconvert_exporter": "python",
   "pygments_lexer": "ipython3",
   "version": "3.7.9"
  }
 },
 "nbformat": 4,
 "nbformat_minor": 1
}
